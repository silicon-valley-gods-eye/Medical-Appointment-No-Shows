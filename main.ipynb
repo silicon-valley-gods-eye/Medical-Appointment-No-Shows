{
 "cells": [
  {
   "cell_type": "code",
   "execution_count": 1,
   "metadata": {},
   "outputs": [],
   "source": [
    "import pandas as pd\n",
    "import matplotlib.pyplot as plt\n",
    "import numpy as np\n",
    "\n",
    "%matplotlib inline"
   ]
  },
  {
   "cell_type": "code",
   "execution_count": 2,
   "metadata": {
    "scrolled": false
   },
   "outputs": [],
   "source": [
    "df = pd.read_csv('dataset.csv')"
   ]
  },
  {
   "cell_type": "code",
   "execution_count": 3,
   "metadata": {},
   "outputs": [
    {
     "name": "stdout",
     "output_type": "stream",
     "text": [
      "Features in the DataFrame => ['PatientId' 'AppointmentID' 'Gender' 'ScheduledDay' 'AppointmentDay'\n",
      " 'Age' 'Neighbourhood' 'Scholarship' 'Hypertension' 'Diabetes'\n",
      " 'Alcoholism' 'Handicap' 'SMSReceived' 'NoShow']\n"
     ]
    }
   ],
   "source": [
    "df = df.rename(columns={'Hipertension': 'Hypertension', 'Handcap': 'Handicap', 'SMS_received': 'SMSReceived', 'No-show': 'NoShow'})\n",
    "\n",
    "# Convert PatientId from Float to Integer\n",
    "df['PatientId'] = df['PatientId'].astype('int64')\n",
    "\n",
    "# Convert ScheduledDay and AppointmentDay from 'object' type to 'datetime64[ns]'\n",
    "df['ScheduledDay'] = pd.to_datetime(df['ScheduledDay']).dt.date.astype('datetime64[ns]')\n",
    "df['AppointmentDay'] = pd.to_datetime(df['AppointmentDay']).dt.date.astype('datetime64[ns]')\n",
    "\n",
    "print(\"Features in the DataFrame => {}\".format(df.columns.ravel()))"
   ]
  },
  {
   "cell_type": "code",
   "execution_count": 4,
   "metadata": {},
   "outputs": [
    {
     "name": "stdout",
     "output_type": "stream",
     "text": [
      "Unique Values in `Gender` => [0 1]\n",
      "Unique Values in `Scholarship` => [0 1]\n",
      "Unique Values in `Hypertension` => [1 0]\n",
      "Unique Values in `Diabetes` => [0 1]\n",
      "Unique Values in `Alcoholism` => [0 1]\n",
      "Unique Values in `Handicap` => [0 1 2 3 4]\n",
      "Unique Values in `SMSReceived` => [0 1]\n",
      "Unique Values in `NoShow` => [0 1]\n"
     ]
    },
    {
     "data": {
      "text/html": [
       "<div>\n",
       "<style scoped>\n",
       "    .dataframe tbody tr th:only-of-type {\n",
       "        vertical-align: middle;\n",
       "    }\n",
       "\n",
       "    .dataframe tbody tr th {\n",
       "        vertical-align: top;\n",
       "    }\n",
       "\n",
       "    .dataframe thead th {\n",
       "        text-align: right;\n",
       "    }\n",
       "</style>\n",
       "<table border=\"1\" class=\"dataframe\">\n",
       "  <thead>\n",
       "    <tr style=\"text-align: right;\">\n",
       "      <th></th>\n",
       "      <th>Gender</th>\n",
       "      <th>ScheduledDay</th>\n",
       "      <th>AppointmentDay</th>\n",
       "      <th>Age</th>\n",
       "      <th>Neighbourhood</th>\n",
       "      <th>Scholarship</th>\n",
       "      <th>Hypertension</th>\n",
       "      <th>Diabetes</th>\n",
       "      <th>Alcoholism</th>\n",
       "      <th>Handicap</th>\n",
       "      <th>SMSReceived</th>\n",
       "      <th>NoShow</th>\n",
       "    </tr>\n",
       "  </thead>\n",
       "  <tbody>\n",
       "    <tr>\n",
       "      <th>0</th>\n",
       "      <td>0</td>\n",
       "      <td>2016-04-29</td>\n",
       "      <td>2016-04-29</td>\n",
       "      <td>62</td>\n",
       "      <td>JARDIM DA PENHA</td>\n",
       "      <td>0</td>\n",
       "      <td>1</td>\n",
       "      <td>0</td>\n",
       "      <td>0</td>\n",
       "      <td>0</td>\n",
       "      <td>0</td>\n",
       "      <td>0</td>\n",
       "    </tr>\n",
       "    <tr>\n",
       "      <th>1</th>\n",
       "      <td>1</td>\n",
       "      <td>2016-04-29</td>\n",
       "      <td>2016-04-29</td>\n",
       "      <td>56</td>\n",
       "      <td>JARDIM DA PENHA</td>\n",
       "      <td>0</td>\n",
       "      <td>0</td>\n",
       "      <td>0</td>\n",
       "      <td>0</td>\n",
       "      <td>0</td>\n",
       "      <td>0</td>\n",
       "      <td>0</td>\n",
       "    </tr>\n",
       "    <tr>\n",
       "      <th>2</th>\n",
       "      <td>0</td>\n",
       "      <td>2016-04-29</td>\n",
       "      <td>2016-04-29</td>\n",
       "      <td>62</td>\n",
       "      <td>MATA DA PRAIA</td>\n",
       "      <td>0</td>\n",
       "      <td>0</td>\n",
       "      <td>0</td>\n",
       "      <td>0</td>\n",
       "      <td>0</td>\n",
       "      <td>0</td>\n",
       "      <td>0</td>\n",
       "    </tr>\n",
       "    <tr>\n",
       "      <th>3</th>\n",
       "      <td>0</td>\n",
       "      <td>2016-04-29</td>\n",
       "      <td>2016-04-29</td>\n",
       "      <td>8</td>\n",
       "      <td>PONTAL DE CAMBURI</td>\n",
       "      <td>0</td>\n",
       "      <td>0</td>\n",
       "      <td>0</td>\n",
       "      <td>0</td>\n",
       "      <td>0</td>\n",
       "      <td>0</td>\n",
       "      <td>0</td>\n",
       "    </tr>\n",
       "    <tr>\n",
       "      <th>4</th>\n",
       "      <td>0</td>\n",
       "      <td>2016-04-29</td>\n",
       "      <td>2016-04-29</td>\n",
       "      <td>56</td>\n",
       "      <td>JARDIM DA PENHA</td>\n",
       "      <td>0</td>\n",
       "      <td>1</td>\n",
       "      <td>1</td>\n",
       "      <td>0</td>\n",
       "      <td>0</td>\n",
       "      <td>0</td>\n",
       "      <td>0</td>\n",
       "    </tr>\n",
       "  </tbody>\n",
       "</table>\n",
       "</div>"
      ],
      "text/plain": [
       "   Gender ScheduledDay AppointmentDay  Age      Neighbourhood  Scholarship  \\\n",
       "0       0   2016-04-29     2016-04-29   62    JARDIM DA PENHA            0   \n",
       "1       1   2016-04-29     2016-04-29   56    JARDIM DA PENHA            0   \n",
       "2       0   2016-04-29     2016-04-29   62      MATA DA PRAIA            0   \n",
       "3       0   2016-04-29     2016-04-29    8  PONTAL DE CAMBURI            0   \n",
       "4       0   2016-04-29     2016-04-29   56    JARDIM DA PENHA            0   \n",
       "\n",
       "   Hypertension  Diabetes  Alcoholism  Handicap  SMSReceived  NoShow  \n",
       "0             1         0           0         0            0       0  \n",
       "1             0         0           0         0            0       0  \n",
       "2             0         0           0         0            0       0  \n",
       "3             0         0           0         0            0       0  \n",
       "4             1         1           0         0            0       0  "
      ]
     },
     "execution_count": 4,
     "metadata": {},
     "output_type": "execute_result"
    }
   ],
   "source": [
    "# Drop 'PatientId' and 'AppointmentID' as they are just some system genrated numbers.\n",
    "df.drop(['PatientId', 'AppointmentID'], axis=1, inplace=True)\n",
    "\n",
    "# Gender 'F' -> 0, 'M' -> 1\n",
    "df['Gender'] = df['Gender'].replace('F', 0).replace('M', 1)\n",
    "# NoShow 'No' -> 0, 'Yes' -> 1\n",
    "df['NoShow'] = df['NoShow'].replace('No', 0).replace('Yes', 1)\n",
    "\n",
    "# Print Unique Values\n",
    "print(\"Unique Values in `Gender` => {}\".format(df.Gender.unique()))\n",
    "print(\"Unique Values in `Scholarship` => {}\".format(df.Scholarship.unique()))\n",
    "print(\"Unique Values in `Hypertension` => {}\".format(df.Hypertension.unique()))\n",
    "print(\"Unique Values in `Diabetes` => {}\".format(df.Diabetes.unique()))\n",
    "print(\"Unique Values in `Alcoholism` => {}\".format(df.Alcoholism.unique()))\n",
    "print(\"Unique Values in `Handicap` => {}\".format(df.Handicap.unique()))\n",
    "print(\"Unique Values in `SMSReceived` => {}\".format(df.SMSReceived.unique()))\n",
    "print(\"Unique Values in `NoShow` => {}\".format(df.NoShow.unique()))\n",
    "\n",
    "df.head()"
   ]
  },
  {
   "cell_type": "code",
   "execution_count": 5,
   "metadata": {},
   "outputs": [
    {
     "name": "stdout",
     "output_type": "stream",
     "text": [
      "[12535, 62510, 9784, 25698]\n"
     ]
    },
    {
     "data": {
      "text/plain": [
       "<matplotlib.axes._subplots.AxesSubplot at 0x23a6bf94978>"
      ]
     },
     "execution_count": 5,
     "metadata": {},
     "output_type": "execute_result"
    },
    {
     "data": {
      "image/png": "[encoded data removed]",
      "text/plain": [
       "<Figure size 432x288 with 1 Axes>"
      ]
     },
     "metadata": {},
     "output_type": "display_data"
    }
   ],
   "source": [
    "sms = df['SMSReceived'].tolist()\n",
    "noshow = df['NoShow'].tolist()\n",
    "\n",
    "sms_noshow_list = []\n",
    "for i in range(len(df)):\n",
    "    sms_noshow_list.append((sms[i], noshow[i]))\n",
    "np.array(sms_noshow_list)\n",
    "\n",
    "no_sms_noshow = sms_noshow_list.count((0,1))\n",
    "no_sms_show = sms_noshow_list.count((0,0))\n",
    "sms_noshow = sms_noshow_list.count((1,1))\n",
    "sms_show = sms_noshow_list.count((1,0))\n",
    "print([no_sms_noshow, no_sms_show, sms_noshow, sms_show])\n",
    "\n",
    "sms_df = pd.DataFrame({'no_show':[no_sms_noshow, sms_noshow], 'show':[no_sms_show, sms_show]},\n",
    "                      index=['sms not received', 'sms received'])\n",
    "sms_df.plot(kind='barh')"
   ]
  },
  {
   "cell_type": "code",
   "execution_count": 6,
   "metadata": {},
   "outputs": [
    {
     "name": "stdout",
     "output_type": "stream",
     "text": [
      "[14594, 57246, 7725, 30962]\n"
     ]
    },
    {
     "data": {
      "text/plain": [
       "<matplotlib.axes._subplots.AxesSubplot at 0x23a6c160e48>"
      ]
     },
     "execution_count": 6,
     "metadata": {},
     "output_type": "execute_result"
    },
    {
     "data": {
      "image/png": "[encoded data removed]",
      "text/plain": [
       "<Figure size 432x288 with 1 Axes>"
      ]
     },
     "metadata": {},
     "output_type": "display_data"
    }
   ],
   "source": [
    "gender = df['Gender'].tolist()\n",
    "noshow = df['NoShow'].tolist()\n",
    "\n",
    "gender_noshow_list = []\n",
    "for i in range(len(df)):\n",
    "    gender_noshow_list.append((gender[i], noshow[i]))\n",
    "np.array(gender_noshow_list)\n",
    "\n",
    "female_noshow = gender_noshow_list.count((0,1))\n",
    "female_show = gender_noshow_list.count((0,0))\n",
    "male_noshow = gender_noshow_list.count((1,1))\n",
    "male_show = gender_noshow_list.count((1,0))\n",
    "print([female_noshow, female_show, male_noshow, male_show])\n",
    "\n",
    "gender_df = pd.DataFrame({'no_show':[female_noshow, male_noshow], 'show':[female_show, male_show]},\n",
    "                      index=['F', 'M'])\n",
    "gender_df.plot(kind='barh')"
   ]
  },
  {
   "cell_type": "code",
   "execution_count": 7,
   "metadata": {},
   "outputs": [
    {
     "name": "stdout",
     "output_type": "stream",
     "text": [
      "[14594, 57246, 7725, 30962]\n"
     ]
    },
    {
     "data": {
      "text/plain": [
       "<matplotlib.axes._subplots.AxesSubplot at 0x23a6c9a02b0>"
      ]
     },
     "execution_count": 7,
     "metadata": {},
     "output_type": "execute_result"
    },
    {
     "data": {
      "image/png": "[encoded data removed]",
      "text/plain": [
       "<Figure size 432x288 with 1 Axes>"
      ]
     },
     "metadata": {},
     "output_type": "display_data"
    }
   ],
   "source": [
    "gender = df['Gender'].tolist()\n",
    "noshow = df['NoShow'].tolist()\n",
    "\n",
    "gender_noshow_list = []\n",
    "for i in range(len(df)):\n",
    "    gender_noshow_list.append((gender[i], noshow[i]))\n",
    "np.array(gender_noshow_list)\n",
    "\n",
    "female_noshow = gender_noshow_list.count((0,1))\n",
    "female_show = gender_noshow_list.count((0,0))\n",
    "male_noshow = gender_noshow_list.count((1,1))\n",
    "male_show = gender_noshow_list.count((1,0))\n",
    "print([female_noshow, female_show, male_noshow, male_show])\n",
    "\n",
    "gender_df = pd.DataFrame({'no_show':[female_noshow, male_noshow], 'show':[female_show, male_show]},\n",
    "                      index=['F', 'M'])\n",
    "gender_df.plot(kind='barh')"
   ]
  },
  {
   "cell_type": "code",
   "execution_count": 9,
   "metadata": {},
   "outputs": [
    {
     "name": "stdout",
     "output_type": "stream",
     "text": [
      "[18547, 70179, 3772, 18029]\n"
     ]
    },
    {
     "data": {
      "text/plain": [
       "<matplotlib.axes._subplots.AxesSubplot at 0x23a6d800d30>"
      ]
     },
     "execution_count": 9,
     "metadata": {},
     "output_type": "execute_result"
    },
    {
     "data": {
      "image/png": "[encoded data removed]",
      "text/plain": [
       "<Figure size 432x288 with 1 Axes>"
      ]
     },
     "metadata": {},
     "output_type": "display_data"
    }
   ],
   "source": [
    "hypertension = df['Hypertension'].tolist()\n",
    "noshow = df['NoShow'].tolist()\n",
    "\n",
    "hypertension_noshow_list = []\n",
    "for i in range(len(df)):\n",
    "    hypertension_noshow_list.append((hypertension[i], noshow[i]))\n",
    "np.array(hypertension_noshow_list)\n",
    "\n",
    "no_hypertension_noshow = hypertension_noshow_list.count((0,1))\n",
    "no_hypertension_show = hypertension_noshow_list.count((0,0))\n",
    "hypertension_noshow = hypertension_noshow_list.count((1,1))\n",
    "hypertension_show = hypertension_noshow_list.count((1,0))\n",
    "print([no_hypertension_noshow, no_hypertension_show, hypertension_noshow, hypertension_show])\n",
    "\n",
    "hypertension_df = pd.DataFrame({'no_show':[no_hypertension_noshow, hypertension_noshow], 'show':[no_hypertension_show, hypertension_show]},\n",
    "                      index=['no_hypertension', 'hypertension'])\n",
    "gender_df.plot(kind='barh')"
   ]
  },
  {
   "cell_type": "code",
   "execution_count": null,
   "metadata": {},
   "outputs": [],
   "source": []
  }
 ],
 "metadata": {
  "kernelspec": {
   "display_name": "Python 3",
   "language": "python",
   "name": "python3"
  },
  "language_info": {
   "codemirror_mode": {
    "name": "ipython",
    "version": 3
   },
   "file_extension": ".py",
   "mimetype": "text/x-python",
   "name": "python",
   "nbconvert_exporter": "python",
   "pygments_lexer": "ipython3",
   "version": "3.6.5"
  }
 },
 "nbformat": 4,
 "nbformat_minor": 2
}
